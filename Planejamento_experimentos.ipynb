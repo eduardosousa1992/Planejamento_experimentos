{
  "nbformat": 4,
  "nbformat_minor": 0,
  "metadata": {
    "colab": {
      "name": "Planejamento_experimentos.ipynb",
      "private_outputs": true,
      "provenance": [],
      "authorship_tag": "ABX9TyOZhJ/I1UW1lBIbApb37S3i",
      "include_colab_link": true
    },
    "kernelspec": {
      "name": "python3",
      "display_name": "Python 3"
    }
  },
  "cells": [
    {
      "cell_type": "markdown",
      "metadata": {
        "id": "view-in-github",
        "colab_type": "text"
      },
      "source": [
        "<a href=\"https://colab.research.google.com/github/eduardosousa1992/Planejamento_experimentos/blob/main/Planejamento_experimentos.ipynb\" target=\"_parent\"><img src=\"https://colab.research.google.com/assets/colab-badge.svg\" alt=\"Open In Colab\"/></a>"
      ]
    },
    {
      "cell_type": "markdown",
      "metadata": {
        "id": "HVP2MNXfKycU"
      },
      "source": [
        "# **Planejamento de Experimentos**"
      ]
    },
    {
      "cell_type": "markdown",
      "metadata": {
        "id": "SLG2QC10K6FP"
      },
      "source": [
        "# 1.0 Introdução"
      ]
    },
    {
      "cell_type": "markdown",
      "metadata": {
        "id": "66w1bGorLFPQ"
      },
      "source": [
        "*Introdução à análise de experimentos*"
      ]
    },
    {
      "cell_type": "markdown",
      "metadata": {
        "id": "C7UZDRXnLOGd"
      },
      "source": [
        "# Inserindo o experimento num Data Frame"
      ]
    },
    {
      "cell_type": "markdown",
      "metadata": {
        "id": "7HUsarmuLUEO"
      },
      "source": [
        "Importando as bibliotecas\r\n",
        "\r\n",
        "\r\n"
      ]
    },
    {
      "cell_type": "markdown",
      "metadata": {
        "id": "lDqgKwzQLfXV"
      },
      "source": [
        "Pandas\r\n",
        "https://pandas.pydata.org/"
      ]
    },
    {
      "cell_type": "code",
      "metadata": {
        "id": "tcUWH4vDKfR4"
      },
      "source": [
        "import pandas as pd "
      ],
      "execution_count": null,
      "outputs": []
    },
    {
      "cell_type": "markdown",
      "metadata": {
        "id": "781ZNG2rQLkP"
      },
      "source": [
        "# Bibliotecas Stats Model"
      ]
    },
    {
      "cell_type": "code",
      "metadata": {
        "id": "6p4hskY1QIx5"
      },
      "source": [
        "import statsmodels.api as sm \r\n",
        "\r\n",
        "import statsmodels.formula.api as smf"
      ],
      "execution_count": null,
      "outputs": []
    },
    {
      "cell_type": "markdown",
      "metadata": {
        "id": "mUq9K2_6Lh2-"
      },
      "source": [
        "Numpy\r\n",
        "http://www.numpy.org/"
      ]
    },
    {
      "cell_type": "code",
      "metadata": {
        "id": "XV-KoYYRKlhR"
      },
      "source": [
        "import numpy as np"
      ],
      "execution_count": null,
      "outputs": []
    },
    {
      "cell_type": "markdown",
      "metadata": {
        "id": "iCZCYLbRVen2"
      },
      "source": [
        "Matplotlib\r\n",
        "\r\n",
        "# https://matplotlib.org/users/colormaps.html"
      ]
    },
    {
      "cell_type": "code",
      "metadata": {
        "id": "SAc1izMNVdQm"
      },
      "source": [
        "import matplotlib.cm as cm"
      ],
      "execution_count": null,
      "outputs": []
    },
    {
      "cell_type": "markdown",
      "metadata": {
        "id": "XpH6MeMnPHwQ"
      },
      "source": [
        "Importando o Seaborn\r\n",
        "https://seaborn.pydata.org"
      ]
    },
    {
      "cell_type": "code",
      "metadata": {
        "id": "AqsXH-3oPDOS"
      },
      "source": [
        "import seaborn as sns"
      ],
      "execution_count": null,
      "outputs": []
    },
    {
      "cell_type": "markdown",
      "metadata": {
        "id": "LqxlrqOBLqWz"
      },
      "source": [
        "pyDOE2 \r\n",
        "https://pypi.org/project/pyDOE2/"
      ]
    },
    {
      "cell_type": "code",
      "metadata": {
        "id": "_1PPaFRvKpP5"
      },
      "source": [
        " import pyDOE2 as doe"
      ],
      "execution_count": null,
      "outputs": []
    },
    {
      "cell_type": "code",
      "metadata": {
        "id": "_jwhS35ILvoi"
      },
      "source": [
        "ensaios = np.array([ [-1,-1], [1,-1], [-1,1], [1,1]   ])"
      ],
      "execution_count": null,
      "outputs": []
    },
    {
      "cell_type": "markdown",
      "metadata": {
        "id": "qedUuLm5N64u"
      },
      "source": [
        "# Costruindo um planejamento fatorial de 2²"
      ]
    },
    {
      "cell_type": "code",
      "metadata": {
        "id": "2JclgVH4MrEx"
      },
      "source": [
        "ensaios  = doe.ff2n(2)"
      ],
      "execution_count": null,
      "outputs": []
    },
    {
      "cell_type": "code",
      "metadata": {
        "id": "hGUh9kO_NPRW"
      },
      "source": [
        "ensaios"
      ],
      "execution_count": null,
      "outputs": []
    },
    {
      "cell_type": "markdown",
      "metadata": {
        "id": "InBeEsvKOSVo"
      },
      "source": [
        "# Incerindo o planejamento em um Data Frame"
      ]
    },
    {
      "cell_type": "code",
      "metadata": {
        "id": "lS5Nm8unOF4E"
      },
      "source": [
        "experimento = pd.DataFrame(ensaios, columns = ['Farinha','Chocolate']    )"
      ],
      "execution_count": null,
      "outputs": []
    },
    {
      "cell_type": "code",
      "metadata": {
        "id": "opKzFsGeOJT6"
      },
      "source": [
        "experimento"
      ],
      "execution_count": null,
      "outputs": []
    },
    {
      "cell_type": "markdown",
      "metadata": {
        "id": "ogexGR1-OaGz"
      },
      "source": [
        "# Inserindo coluna com os resultados"
      ]
    },
    {
      "cell_type": "code",
      "metadata": {
        "id": "osGBALZmONbp"
      },
      "source": [
        "experimento['Porcoes'] = [19,37,24,49]"
      ],
      "execution_count": null,
      "outputs": []
    },
    {
      "cell_type": "code",
      "metadata": {
        "id": "MQ_MPdoXOiQY"
      },
      "source": [
        "experimento"
      ],
      "execution_count": null,
      "outputs": []
    },
    {
      "cell_type": "markdown",
      "metadata": {
        "id": "NTDeMiSCOpNT"
      },
      "source": [
        "# Conclusão: Temos, por fim, nosso experimento representado por um DataFrame do Pandas. Usaremos este DataFrame para iniciarmos a análise do nosso experimento."
      ]
    },
    {
      "cell_type": "markdown",
      "metadata": {
        "id": "VnJQOfD6O7yw"
      },
      "source": [
        "Analisando graficamente o **experimento**"
      ]
    },
    {
      "cell_type": "code",
      "metadata": {
        "id": "mbp9zl1HOkoS"
      },
      "source": [
        "# paletas -> Accent, Accent_r, Blues, Blues_r, BrBG, BrBG_r, BuGn, BuGn_r, BuPu, BuPu_r, CMRmap, CMRmap_r, Dark2, Dark2_r, GnBu, GnBu_r, Greens, Greens_r, Greys, Greys_r, OrRd, OrRd_r, Oranges, Oranges_r, PRGn, PRGn_r, Paired, Paired_r, Pastel1, Pastel1_r, Pastel2, Pastel2_r, PiYG, PiYG_r, PuBu, PuBuGn, PuBuGn_r, PuBu_r, PuOr, PuOr_r, PuRd, PuRd_r, Purples, Purples_r, RdBu, RdBu_r, RdGy, RdGy_r, RdPu, RdPu_r, RdYlBu, RdYlBu_r, RdYlGn, RdYlGn_r, Reds, Reds_r, Set1, Set1_r, Set2, Set2_r, Set3, Set3_r, Spectral, Spectral_r, Wistia, Wistia_r, YlGn, YlGnBu, YlGnBu_r, YlGn_r, YlOrBr, YlOrBr_r, YlOrRd, YlOrRd_r, afmhot, afmhot_r, autumn, autumn_r, binary, binary_r, bone, bone_r, brg, brg_r, bwr, bwr_r, cividis, cividis_r, cool, cool_r, coolwarm, coolwarm_r, copper, copper_r, cubehelix, cubehelix_r, flag, flag_r, gist_earth, gist_earth_r, gist_gray, gist_gray_r, gist_heat, gist_heat_r, gist_ncar, gist_ncar_r, gist_rainbow, gist_rainbow_r, gist_stern, gist_stern_r, gist_yarg, gist_yarg_r, gnuplot, gnuplot2, gnuplot2_r, gnuplot_r, gray, gray_r, hot, hot_r, hsv, hsv_r, icefire, icefire_r, inferno, inferno_r, jet, jet_r, magma, magma_r, mako, mako_r, nipy_spectral, nipy_spectral_r, ocean, ocean_r, pink, pink_r, plasma, plasma_r, prism, prism_r, rainbow, rainbow_r, rocket, rocket_r, seismic, seismic_r, spring, spring_r, summer, summer_r, tab10, tab10_r, tab20, tab20_r, tab20b, tab20b_r, tab20c, tab20c_r, terrain, terrain_r, viridis, viridis_r, vlag, vlag_r, winter, winter_r\r\n",
        "sns.set_palette('terrain')\r\n",
        "\r\n",
        "# estilo -> white, dark, whitegrid, darkgrid, ticks\r\n",
        "sns.set_style('darkgrid')"
      ],
      "execution_count": null,
      "outputs": []
    },
    {
      "cell_type": "markdown",
      "metadata": {
        "id": "4NQlFrC-PZm9"
      },
      "source": [
        "Para a **farinha**"
      ]
    },
    {
      "cell_type": "code",
      "metadata": {
        "id": "at2IN-gaPStl"
      },
      "source": [
        "ax1 = sns.lmplot(data = experimento, x = 'Farinha', y = 'Porcoes', ci = None, hue = 'Chocolate')\r\n",
        "\r\n",
        "\r\n",
        "ax1.set(xticks = (-1,1))"
      ],
      "execution_count": null,
      "outputs": []
    },
    {
      "cell_type": "markdown",
      "metadata": {
        "id": "h9EdKoH7PijQ"
      },
      "source": [
        "Para o **chocolate**"
      ]
    },
    {
      "cell_type": "code",
      "metadata": {
        "id": "FlZDfICVPdtW"
      },
      "source": [
        "ax2 = sns.lmplot(data = experimento, x = 'Chocolate', y = 'Porcoes', ci = None, hue = 'Farinha'     )\r\n",
        "\r\n",
        "ax2.set(xticks = (-1,1))"
      ],
      "execution_count": null,
      "outputs": []
    },
    {
      "cell_type": "markdown",
      "metadata": {
        "id": "vhimDkctPtaR"
      },
      "source": [
        "# Ajustando o modelo estatístico"
      ]
    },
    {
      "cell_type": "code",
      "metadata": {
        "id": "lBuaqG5DPmCi"
      },
      "source": [
        "modelo = smf.ols(data = experimento, formula = 'Porcoes ~ Farinha + Chocolate + Farinha:Chocolate')"
      ],
      "execution_count": null,
      "outputs": []
    },
    {
      "cell_type": "code",
      "metadata": {
        "id": "hxR_elxgQU01"
      },
      "source": [
        "modelo_ajustado = modelo.fit()"
      ],
      "execution_count": null,
      "outputs": []
    },
    {
      "cell_type": "code",
      "metadata": {
        "id": "bBxbWrDyQXky"
      },
      "source": [
        "print(modelo_ajustado.summary() )"
      ],
      "execution_count": null,
      "outputs": []
    },
    {
      "cell_type": "markdown",
      "metadata": {
        "id": "ebdhDByqQlX8"
      },
      "source": [
        "Aumentando os Graus de liberdade "
      ]
    },
    {
      "cell_type": "code",
      "metadata": {
        "id": "krsvHxd0QZoo"
      },
      "source": [
        "centro = np.array([ [0,0,29],\r\n",
        "                    [0,0,30],\r\n",
        "                    [0,0,29],\r\n",
        "                    [0,0,30],             ])"
      ],
      "execution_count": null,
      "outputs": []
    },
    {
      "cell_type": "code",
      "metadata": {
        "id": "dn0mP5EMQsCS"
      },
      "source": [
        "centro_dataframe = pd.DataFrame(centro, columns = ['Farinha', 'Chocolate','Porcoes'], index = [4,5,6,7]     )"
      ],
      "execution_count": null,
      "outputs": []
    },
    {
      "cell_type": "code",
      "metadata": {
        "id": "IXBHz1_uQwCT"
      },
      "source": [
        "centro_dataframe"
      ],
      "execution_count": null,
      "outputs": []
    },
    {
      "cell_type": "code",
      "metadata": {
        "id": "iRh4TXx0QzwT"
      },
      "source": [
        "experimento = experimento.append(centro_dataframe)"
      ],
      "execution_count": null,
      "outputs": []
    },
    {
      "cell_type": "code",
      "metadata": {
        "id": "bQffoVqVQ3xg"
      },
      "source": [
        "experimento"
      ],
      "execution_count": null,
      "outputs": []
    },
    {
      "cell_type": "markdown",
      "metadata": {
        "id": "7IWt2zerRBRd"
      },
      "source": [
        "# Análise de significância estatística "
      ]
    },
    {
      "cell_type": "code",
      "metadata": {
        "id": "X0N6tRH6Q55U"
      },
      "source": [
        "modelo = smf.ols(data = experimento, formula = 'Porcoes ~ Farinha + Chocolate + Farinha:Chocolate'     )"
      ],
      "execution_count": null,
      "outputs": []
    },
    {
      "cell_type": "code",
      "metadata": {
        "id": "5EYz3CIKRFXN"
      },
      "source": [
        "modelo_ajustado = modelo.fit()"
      ],
      "execution_count": null,
      "outputs": []
    },
    {
      "cell_type": "code",
      "metadata": {
        "id": "TXp1lqU7RIRI"
      },
      "source": [
        "print(modelo_ajustado.summary())"
      ],
      "execution_count": null,
      "outputs": []
    },
    {
      "cell_type": "markdown",
      "metadata": {
        "id": "PUQtI-R0RVT6"
      },
      "source": [
        "Teste de significância estatística usando o **t**"
      ]
    },
    {
      "cell_type": "code",
      "metadata": {
        "id": "YA2dPceJRLGG"
      },
      "source": [
        "t_valores = modelo_ajustado.tvalues"
      ],
      "execution_count": null,
      "outputs": []
    },
    {
      "cell_type": "code",
      "metadata": {
        "id": "hlzSz-n4RZQo"
      },
      "source": [
        "t_valores"
      ],
      "execution_count": null,
      "outputs": []
    },
    {
      "cell_type": "code",
      "metadata": {
        "id": "JMPQFOH_RdJV"
      },
      "source": [
        "nome= t_valores.index.tolist()"
      ],
      "execution_count": null,
      "outputs": []
    },
    {
      "cell_type": "code",
      "metadata": {
        "id": "QvQimt_MRmdV"
      },
      "source": [
        "nome"
      ],
      "execution_count": null,
      "outputs": []
    },
    {
      "cell_type": "code",
      "metadata": {
        "id": "rOVsj3aiRqNQ"
      },
      "source": [
        "from scipy import stats"
      ],
      "execution_count": null,
      "outputs": []
    },
    {
      "cell_type": "code",
      "metadata": {
        "id": "Mv2KWgU7Rsps"
      },
      "source": [
        "distribuicao  = stats.t(df = 4)"
      ],
      "execution_count": null,
      "outputs": []
    },
    {
      "cell_type": "code",
      "metadata": {
        "id": "1am5vZd7RvZ2"
      },
      "source": [
        "distribuicao.ppf(q = 1 - 0.025)"
      ],
      "execution_count": null,
      "outputs": []
    },
    {
      "cell_type": "code",
      "metadata": {
        "id": "hd0wQy0HRz8z"
      },
      "source": [
        "limite = [distribuicao.ppf(q = 1 -0.025  )]*len(nome)"
      ],
      "execution_count": null,
      "outputs": []
    },
    {
      "cell_type": "code",
      "metadata": {
        "id": "6dZaIpSZR3gR"
      },
      "source": [
        "limite"
      ],
      "execution_count": null,
      "outputs": []
    },
    {
      "cell_type": "code",
      "metadata": {
        "id": "ixe09-dnR6lt"
      },
      "source": [
        "pareto = sns.barplot(x = t_valores, y = nome )\r\n",
        "\r\n",
        "pareto.figure.set_size_inches(15,6)\r\n",
        "\r\n",
        "pareto.tick_params(labelsize = 20)\r\n",
        "\r\n",
        "pareto.set_xlabel('t-valores', fontsize = 20)\r\n",
        "\r\n",
        "\r\n",
        "pareto.plot(limite, nome, 'r')"
      ],
      "execution_count": null,
      "outputs": []
    },
    {
      "cell_type": "markdown",
      "metadata": {
        "id": "BwqVkSoBSNSE"
      },
      "source": [
        "# Propondo um novo modelo "
      ]
    },
    {
      "cell_type": "code",
      "metadata": {
        "id": "miHa-ingSEOG"
      },
      "source": [
        "modelo_2 = smf.ols(data = experimento, formula = 'Porcoes ~   Farinha + Chocolate'    )"
      ],
      "execution_count": null,
      "outputs": []
    },
    {
      "cell_type": "code",
      "metadata": {
        "id": "OyWO_mWnSQ1k"
      },
      "source": [
        "modelo_ajustado_2 = modelo_2.fit()"
      ],
      "execution_count": null,
      "outputs": []
    },
    {
      "cell_type": "code",
      "metadata": {
        "id": "izr1KliCSTkU"
      },
      "source": [
        "print(modelo_ajustado_2.summary()  )"
      ],
      "execution_count": null,
      "outputs": []
    },
    {
      "cell_type": "markdown",
      "metadata": {
        "id": "gK1czNjQSZTB"
      },
      "source": [
        "# Gráfico Padronizado de Pareto do novo modelo "
      ]
    },
    {
      "cell_type": "code",
      "metadata": {
        "id": "VZVL_3TdSV3B"
      },
      "source": [
        "t_valores = modelo_ajustado_2.tvalues"
      ],
      "execution_count": null,
      "outputs": []
    },
    {
      "cell_type": "code",
      "metadata": {
        "id": "Az9bb47hSeME"
      },
      "source": [
        "t_valores"
      ],
      "execution_count": null,
      "outputs": []
    },
    {
      "cell_type": "code",
      "metadata": {
        "id": "TSpNtog1SgaN"
      },
      "source": [
        "nome = t_valores.index.tolist()"
      ],
      "execution_count": null,
      "outputs": []
    },
    {
      "cell_type": "code",
      "metadata": {
        "id": "NpJG8QBRSkBq"
      },
      "source": [
        "nome"
      ],
      "execution_count": null,
      "outputs": []
    },
    {
      "cell_type": "code",
      "metadata": {
        "id": "quAFE3cCSmfO"
      },
      "source": [
        "distribuicao = stats.t(df = 5)"
      ],
      "execution_count": null,
      "outputs": []
    },
    {
      "cell_type": "code",
      "metadata": {
        "id": "kgJbNrOzSqBH"
      },
      "source": [
        "distribuicao.ppf(q = 1 - 0.025)"
      ],
      "execution_count": null,
      "outputs": []
    },
    {
      "cell_type": "code",
      "metadata": {
        "id": "_qqzsmXSSsZU"
      },
      "source": [
        "limite = [distribuicao.ppf(q = 1 - 0.025    )]*len(nome)\r\n",
        "\r\n",
        "\r\n",
        "limite"
      ],
      "execution_count": null,
      "outputs": []
    },
    {
      "cell_type": "markdown",
      "metadata": {
        "id": "V-oojWoPSyPD"
      },
      "source": [
        "# Plotando o gráfico"
      ]
    },
    {
      "cell_type": "code",
      "metadata": {
        "id": "_KIgtHIlSu3s"
      },
      "source": [
        "pareto = sns.barplot(x = t_valores, y = nome)\r\n",
        "\r\n",
        "pareto.figure.set_size_inches(15,6)\r\n",
        "\r\n",
        "pareto.tick_params(labelsize = 20)\r\n",
        "\r\n",
        "pareto.set_xlabel('t-valor', fontsize = 20)\r\n",
        "\r\n",
        "\r\n",
        "pareto.plot(limite, nome, 'r')"
      ],
      "execution_count": null,
      "outputs": []
    },
    {
      "cell_type": "markdown",
      "metadata": {
        "id": "l9_dE5hNS8Cs"
      },
      "source": [
        "# Preditos por observados"
      ]
    },
    {
      "cell_type": "code",
      "metadata": {
        "id": "5bQ75MhJS1dz"
      },
      "source": [
        "observados = experimento['Porcoes']"
      ],
      "execution_count": null,
      "outputs": []
    },
    {
      "cell_type": "code",
      "metadata": {
        "id": "EISHNp1SS_7r"
      },
      "source": [
        "observados"
      ],
      "execution_count": null,
      "outputs": []
    },
    {
      "cell_type": "code",
      "metadata": {
        "id": "0hg3wrKcTCoV"
      },
      "source": [
        "preditos = modelo_ajustado_2.predict()"
      ],
      "execution_count": null,
      "outputs": []
    },
    {
      "cell_type": "code",
      "metadata": {
        "id": "78DhKXBCTF_V"
      },
      "source": [
        "preditos"
      ],
      "execution_count": null,
      "outputs": []
    },
    {
      "cell_type": "code",
      "metadata": {
        "id": "JtrDtspgTJd_"
      },
      "source": [
        "import matplotlib.pyplot as plt"
      ],
      "execution_count": null,
      "outputs": []
    },
    {
      "cell_type": "code",
      "metadata": {
        "id": "ZeBEyLANTMsa"
      },
      "source": [
        "plt.figure(figsize = (10,5))\r\n",
        "\r\n",
        "plt.xlabel('Preditos', fontsize = 16)\r\n",
        "\r\n",
        "plt.ylabel('Observados', fontsize = 16)\r\n",
        "\r\n",
        "\r\n",
        "#linha de guia\r\n",
        "\r\n",
        "x = np.linspace(start = 15, stop = 50, num = 10      )\r\n",
        "\r\n",
        "\r\n",
        "y = np.linspace(start = 15, stop = 50, num = 10)\r\n",
        "\r\n",
        "\r\n",
        "plt.plot(x,y, 'r')\r\n",
        "\r\n",
        "\r\n",
        "#comparacao \r\n",
        "\r\n",
        "plt.scatter(preditos, observados)"
      ],
      "execution_count": null,
      "outputs": []
    },
    {
      "cell_type": "code",
      "metadata": {
        "id": "XFp3B1NRTQf1"
      },
      "source": [
        "print(modelo_ajustado_2.summary())"
      ],
      "execution_count": null,
      "outputs": []
    },
    {
      "cell_type": "markdown",
      "metadata": {
        "id": "_EZ59lBOUhf1"
      },
      "source": [
        "# Explorando o modelo "
      ]
    },
    {
      "cell_type": "code",
      "metadata": {
        "id": "UfXaXEAsTVYQ"
      },
      "source": [
        "parametros = modelo_ajustado_2.params"
      ],
      "execution_count": null,
      "outputs": []
    },
    {
      "cell_type": "code",
      "metadata": {
        "id": "GWqSOantUlva"
      },
      "source": [
        "parametros"
      ],
      "execution_count": null,
      "outputs": []
    },
    {
      "cell_type": "markdown",
      "metadata": {
        "id": "t_89r3q4UrN0"
      },
      "source": [
        "# Definindo a função"
      ]
    },
    {
      "cell_type": "code",
      "metadata": {
        "id": "yqs3v6nYUoBi"
      },
      "source": [
        "def modelo_receita(x_f, x_c):\r\n",
        "    \r\n",
        "    #limite\r\n",
        "    \r\n",
        "    limite_normalizado = [-1,+1]\r\n",
        "    \r\n",
        "    limite_farinha = [0.5,1.5]\r\n",
        "    \r\n",
        "    limite_chocolate = [0.1,0.5]\r\n",
        "    \r\n",
        "    \r\n",
        "    #Converter \r\n",
        "    \r\n",
        "    x_f_convertido = np.interp(x_f, limite_farinha, limite_normalizado     )\r\n",
        "    \r\n",
        "    x_c_convertido = np.interp(x_c, limite_chocolate, limite_normalizado                 )\r\n",
        "    \r\n",
        "    \r\n",
        "    \r\n",
        "    \r\n",
        "    \r\n",
        "    porcoes = parametros['Intercept'] + parametros['Farinha']*x_f_convertido  + parametros['Chocolate']*x_c_convertido\r\n",
        "    \r\n",
        "    \r\n",
        "    return round(porcoes)"
      ],
      "execution_count": null,
      "outputs": []
    },
    {
      "cell_type": "code",
      "metadata": {
        "id": "s5IC6Ox8UxOW"
      },
      "source": [
        "modelo_receita(0.6,0.1)"
      ],
      "execution_count": null,
      "outputs": []
    },
    {
      "cell_type": "markdown",
      "metadata": {
        "id": "exNM6fNTU83x"
      },
      "source": [
        "# Mapa de cores"
      ]
    },
    {
      "cell_type": "code",
      "metadata": {
        "id": "2KAOUpyEU2PK"
      },
      "source": [
        "x_farinha = np.linspace(start = 0.5, stop = 1.5, num = 10     )"
      ],
      "execution_count": null,
      "outputs": []
    },
    {
      "cell_type": "code",
      "metadata": {
        "id": "RjzbrAp4VC-A"
      },
      "source": [
        "x_farinha"
      ],
      "execution_count": null,
      "outputs": []
    },
    {
      "cell_type": "code",
      "metadata": {
        "id": "l4hQTchtVDhW"
      },
      "source": [
        "x_chocolate = np.linspace(start = 0.1, stop = 0.5, num = 10  )"
      ],
      "execution_count": null,
      "outputs": []
    },
    {
      "cell_type": "code",
      "metadata": {
        "id": "j6JX-nvoVID7"
      },
      "source": [
        "x_chocolate"
      ],
      "execution_count": null,
      "outputs": []
    },
    {
      "cell_type": "code",
      "metadata": {
        "id": "n9p8K_QlVInv"
      },
      "source": [
        "pontos = []\r\n",
        "\r\n",
        "\r\n",
        "for cont1 in x_farinha:\r\n",
        "    \r\n",
        "    temp = []\r\n",
        "    \r\n",
        "    for cont2 in x_chocolate:\r\n",
        "        \r\n",
        "        temp.append(modelo_receita(cont1, cont2   ))\r\n",
        "        \r\n",
        "    pontos.append(temp)    \r\n",
        "        "
      ],
      "execution_count": null,
      "outputs": []
    },
    {
      "cell_type": "code",
      "metadata": {
        "id": "lRfGsNfIVL-w"
      },
      "source": [
        "pontos"
      ],
      "execution_count": null,
      "outputs": []
    },
    {
      "cell_type": "markdown",
      "metadata": {
        "id": "mDRx5T0-VTpy"
      },
      "source": [
        "# Construindo a superfície de resposta"
      ]
    },
    {
      "cell_type": "code",
      "metadata": {
        "id": "eShlr7lzVOm4"
      },
      "source": [
        "#base\r\n",
        "\r\n",
        "plt.figure(figsize = (16,6))\r\n",
        "\r\n",
        "plt.xlabel('Farinha (kg)', fontsize = 16)\r\n",
        "\r\n",
        "plt.ylabel('Chocolate (kg)', fontsize = 16)\r\n",
        "\r\n",
        "\r\n",
        "#Mapa de cores \r\n",
        "\r\n",
        "mapa_cor = plt.imshow(pontos, origin = 'lower',  cmap = cm.rainbow, interpolation= 'quadric', extent = (0.5,1.5, 0.1,0.5)   )\r\n",
        "\r\n",
        "\r\n",
        "#Barra de cor\r\n",
        "\r\n",
        "plt.colorbar().set_label('Porcoes', fontsize = 16)\r\n",
        "\r\n",
        "\r\n",
        "#linha \r\n",
        "\r\n",
        "linhas = plt.contour(x_farinha, x_chocolate, pontos, colors = 'k', linewidths = 1.5       )\r\n",
        "\r\n",
        "\r\n",
        "plt.clabel(linhas, inline = True, fmt = '%1.0f', fontsize = 15.0 , inline_spacing = 10      )\r\n"
      ],
      "execution_count": null,
      "outputs": []
    },
    {
      "cell_type": "code",
      "metadata": {
        "id": "sx5N7vbHV49E"
      },
      "source": [
        ""
      ],
      "execution_count": null,
      "outputs": []
    }
  ]
}